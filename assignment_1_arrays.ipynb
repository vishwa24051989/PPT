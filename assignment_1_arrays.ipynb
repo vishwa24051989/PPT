{
 "cells": [
  {
   "cell_type": "markdown",
   "id": "0138abd4",
   "metadata": {},
   "source": [
    "# Assignment -1 Arrays"
   ]
  },
  {
   "cell_type": "markdown",
   "id": "e794c543",
   "metadata": {},
   "source": [
    "\n",
    "💡 **Q1.** Given an array of integers nums and an integer target, return indices of the two numbers such that they add up to target.\n",
    "\n",
    "You may assume that each input would have exactly one solution, and you may not use the same element twice.\n",
    "\n",
    "You can return the answer in any order.\n",
    "\n",
    "**Example:**\n",
    "Input: nums = [2,7,11,15], target = 9\n",
    "Output0 [0,1]\n",
    "\n",
    "**Explanation:** Because nums[0] + nums[1] == 9, we return [0, 1][\n",
    "\n"
   ]
  },
  {
   "cell_type": "code",
   "execution_count": 26,
   "id": "fc9c2a9e",
   "metadata": {},
   "outputs": [
    {
     "data": {
      "text/plain": [
       "(1, 4)"
      ]
     },
     "execution_count": 26,
     "metadata": {},
     "output_type": "execute_result"
    }
   ],
   "source": [
    "#solution 1\n",
    "def index_of_numbers(list1, target):\n",
    "    for n in range(len(list1)):\n",
    "        for k in range(n+1,len(list1)):\n",
    "            #check if sum is equal to tha target value\n",
    "            if list1[n]+list1[k]==target:\n",
    "                return n,k\n",
    "\n",
    "#test\n",
    "list=(11,5,6,2,4)\n",
    "target=9\n",
    "index_of_numbers(list,target)\n",
    "\n",
    "#time compl=O(n)\n",
    "#space compl=O(n)"
   ]
  },
  {
   "cell_type": "code",
   "execution_count": 36,
   "id": "8ae1b0ed",
   "metadata": {},
   "outputs": [
    {
     "data": {
      "text/plain": [
       "(1, 4)"
      ]
     },
     "execution_count": 36,
     "metadata": {},
     "output_type": "execute_result"
    }
   ],
   "source": [
    "#solution 2 _using hash table\n",
    "def two_sum(nums, target):\n",
    " # Create a hash table of all the elements in nums.\n",
    "    nums_hash = {}\n",
    "    for i in range(len(nums)):\n",
    "        nums_hash[nums[i]] = i\n",
    "        for i in range(len(nums)):\n",
    "            complement = target - nums[i]\n",
    "            if complement in nums_hash:\n",
    "                return [i, nums_hash[complement]]\n",
    "            return None\n",
    "#test\n",
    "list=(11,5,6,2,4)\n",
    "target=9\n",
    "index_of_numbers(list,target)\n",
    "\n",
    "#time compl=O(n)\n",
    "#space compl=O(1)\n"
   ]
  },
  {
   "cell_type": "markdown",
   "id": "93684f85",
   "metadata": {},
   "source": [
    "💡 **Q2.** Given an integer array nums and an integer val, remove all occurrences of val in nums in-place. The order of the elements may be changed. Then return the number of elements in nums which are not equal to val.\n",
    "\n",
    "Consider the number of elements in nums which are not equal to val be k, to get accepted, you need to do the following things:\n",
    "\n",
    "- Change the array nums such that the first k elements of nums contain the elements which are not equal to val. The remaining elements of nums are not important as well as the size of nums.\n",
    "- Return k.\n",
    "\n",
    "**Example :**\n",
    "Input: nums = [3,2,2,3], val = 3\n",
    "Output: 2, nums = [2,2,_*,_*]\n",
    "\n",
    "**Explanation:** Your function should return k = 2, with the first two elements of nums being 2. It does not matter what you leave beyond the returned k (hence they are underscores)[\n"
   ]
  },
  {
   "cell_type": "code",
   "execution_count": 37,
   "id": "1ca33575",
   "metadata": {},
   "outputs": [
    {
     "data": {
      "text/plain": [
       "2"
      ]
     },
     "execution_count": 37,
     "metadata": {},
     "output_type": "execute_result"
    }
   ],
   "source": [
    "def remove_element(nums, val):\n",
    "# Initialize the number of elements which are not equal to val to 0.\n",
    "    k = 0\n",
    "    for i in range(len(nums)):\n",
    "        if nums[i] != val:\n",
    "            nums[k] = nums[i]\n",
    "            k += 1\n",
    "\n",
    "  # Return the number of elements in nums which are not equal to val.\n",
    "    return k\n",
    "\n",
    "#Example :\n",
    "nums = [3,2,2,3]\n",
    "val = 3\n",
    "remove_element(nums,val)\n",
    "\n",
    "#time compl=O(n)\n",
    "#space compl=O(1)"
   ]
  },
  {
   "cell_type": "markdown",
   "id": "f584cbfc",
   "metadata": {},
   "source": [
    "\n",
    "💡 **Q3.** Given a sorted array of distinct integers and a target value, return the index if the target is found. If not, return the index where it would be if it were inserted in order.\n",
    "\n",
    "You must write an algorithm with O(log n) runtime complexity.\n",
    "\n",
    "**Example 1:**\n",
    "Input: nums = [1,3,5,6], target = 5\n",
    "\n",
    "Output: 2\n"
   ]
  },
  {
   "cell_type": "code",
   "execution_count": 49,
   "id": "56740e16",
   "metadata": {},
   "outputs": [
    {
     "data": {
      "text/plain": [
       "2"
      ]
     },
     "execution_count": 49,
     "metadata": {},
     "output_type": "execute_result"
    }
   ],
   "source": [
    "def position_nums(nums,target):\n",
    "    low=0\n",
    "    high=len(nums)-1\n",
    "    mid=high//2\n",
    "    if nums[mid]==target:\n",
    "        return mid\n",
    "    elif nums[mid]<target:\n",
    "        low=mid+1\n",
    "    else:\n",
    "        high=mid-1\n",
    "    return low\n",
    "\n",
    "#Example:\n",
    "nums = [1,3,5,6] \n",
    "target = 5\n",
    "position_nums(nums,target)"
   ]
  },
  {
   "cell_type": "markdown",
   "id": "eb903105",
   "metadata": {},
   "source": [
    "\n",
    "💡 **Q4.** You are given a large integer represented as an integer array digits, where each digits[i] is the ith digit of the integer. The digits are ordered from most significant to least significant in left-to-right order. The large integer does not contain any leading 0's.\n",
    "\n",
    "Increment the large integer by one and return the resulting array of digits.\n",
    "\n",
    "**Example 1:**\n",
    "Input: digits = [1,2,3]\n",
    "Output: [1,2,4]\n",
    "\n",
    "**Explanation:** The array represents the integer 123.\n",
    "\n",
    "Incrementing by one gives 123 + 1 = 124.\n",
    "Thus, the result should be [1,2,4].\n"
   ]
  },
  {
   "cell_type": "code",
   "execution_count": 54,
   "id": "dd99a844",
   "metadata": {},
   "outputs": [
    {
     "data": {
      "text/plain": [
       "[1, 2, 4]"
      ]
     },
     "execution_count": 54,
     "metadata": {},
     "output_type": "execute_result"
    }
   ],
   "source": [
    "def increment_large_integer(digits):\n",
    "    carry = 1\n",
    "    for i in range(len(digits) - 1, -1, -1):\n",
    "        if digits[i] < 9:\n",
    "            digits[i] += 1\n",
    "            carry = 0\n",
    "            break\n",
    "        else:\n",
    "            digits[i] = 0\n",
    "    if carry:\n",
    "        digits.insert(0, 1)\n",
    "    return digits\n",
    "\n",
    "#Example\n",
    "digits = [1,2,3]\n",
    "increment_large_integer(digits)\n",
    "\n",
    "#time compl=O(n)\n",
    "#space compl=O(1)"
   ]
  },
  {
   "cell_type": "markdown",
   "id": "7c649ac9",
   "metadata": {},
   "source": [
    "\n",
    "💡 **Q5.** You are given two integer arrays nums1 and nums2, sorted in non-decreasing order, and two integers m and n, representing the number of elements in nums1 and nums2 respectively.\n",
    "\n",
    "Merge nums1 and nums2 into a single array sorted in non-decreasing order.\n",
    "\n",
    "The final sorted array should not be returned by the function, but instead be stored inside the array nums1. To accommodate this, nums1 has a length of m + n, where the first m elements denote the elements that should be merged, and the last n elements are set to 0 and should be ignored. nums2 has a length of n.\n",
    "\n",
    "**Example 1:**\n",
    "Input: nums1 = [1,2,3,0,0,0], m = 3, nums2 = [2,5,6], n = 3\n",
    "Output: [1,2,2,3,5,6]\n",
    "\n",
    "**Explanation:** The arrays we are merging are [1,2,3] and [2,5,6].\n",
    "The result of the merge is [1,2,2,3,5,6] with the underlined elements coming from nums1.\n"
   ]
  },
  {
   "cell_type": "code",
   "execution_count": 71,
   "id": "2cb83075",
   "metadata": {},
   "outputs": [
    {
     "data": {
      "text/plain": [
       "[1, 2, 2, 3, 5, 6]"
      ]
     },
     "execution_count": 71,
     "metadata": {},
     "output_type": "execute_result"
    }
   ],
   "source": [
    "def merge_sorted_arrays(nums1, m, nums2, n):\n",
    "    i = int(m - 1)\n",
    "    j = int(n - 1)\n",
    "    k = int(m + n - 1)\n",
    "    while (k >= 0):\n",
    "                if i>=0 and j>=0:\n",
    "                    if(nums2[j] > nums1[i]):\n",
    "                        nums1[k] = nums2[j]\n",
    "                        k -= 1\n",
    "                        j -= 1\n",
    "                    else:\n",
    "                        nums1[k] = nums1[i]\n",
    "                        k -= 1\n",
    "                        i -= 1\n",
    "                elif j >= 0:\n",
    "                    nums1[k] = nums2[j]\n",
    "                    k -= 1\n",
    "                    j -= 1\n",
    "                else:\n",
    "                    break\n",
    "                    \n",
    "#Example\n",
    "nums1 = [1,2,3,0,0,0]\n",
    "m = 3\n",
    "nums2 = [2,5,6]\n",
    "n = 3\n",
    "merge_sorted_arrays(nums1, m, nums2, n)\n",
    "nums1\n",
    "\n",
    "#time compl=O(m+n)\n",
    "#space compl=O(1)\n"
   ]
  },
  {
   "cell_type": "markdown",
   "id": "60c21f6d",
   "metadata": {},
   "source": [
    "\n",
    "💡 **Q6.** Given an integer array nums, return true if any value appears at least twice in the array, and return false if every element is distinct.\n",
    "\n",
    "**Example 1:**\n",
    "Input: nums = [1,2,3,1]\n",
    "\n",
    "Output: true\n"
   ]
  },
  {
   "cell_type": "code",
   "execution_count": 78,
   "id": "879e27e6",
   "metadata": {},
   "outputs": [
    {
     "data": {
      "text/plain": [
       "False"
      ]
     },
     "execution_count": 78,
     "metadata": {},
     "output_type": "execute_result"
    }
   ],
   "source": [
    "def sort_and_check_duplicates(array):\n",
    "    array.sort()\n",
    "    seen = set()\n",
    "    has_duplicates = False\n",
    "    for element in array:\n",
    "        if element in seen:\n",
    "            has_duplicates = True\n",
    "            break\n",
    "        seen.add(element)\n",
    "    return has_duplicates\n",
    "\n",
    "#Example\n",
    "nums = [1,2,3,4]\n",
    "sort_and_check_duplicates(nums)\n",
    "\n",
    "#time compl=O(n log n)\n",
    "#space compl=O(n)"
   ]
  },
  {
   "cell_type": "markdown",
   "id": "9ec3d18d",
   "metadata": {},
   "source": [
    "\n",
    "💡 **Q7.** Given an integer array nums, move all 0's to the end of it while maintaining the relative order of the nonzero elements.\n",
    "\n",
    "Note that you must do this in-place without making a copy of the array.\n",
    "\n",
    "**Example 1:**\n",
    "Input: nums = [0,1,0,3,12]\n",
    "Output: [1,3,12,0,0]\n",
    "\n"
   ]
  },
  {
   "cell_type": "code",
   "execution_count": 80,
   "id": "91bdc40e",
   "metadata": {},
   "outputs": [
    {
     "data": {
      "text/plain": [
       "[1, 3, 12, 0, 0]"
      ]
     },
     "execution_count": 80,
     "metadata": {},
     "output_type": "execute_result"
    }
   ],
   "source": [
    "def move_zeros_to_end(nums):\n",
    "    j = 0\n",
    "    for i in range(len(nums)):\n",
    "        if nums[i] != 0:\n",
    "            nums[j] = nums[i]\n",
    "            j += 1\n",
    "    for i in range(j, len(nums)):\n",
    "        nums[i] = 0\n",
    "    return nums\n",
    "\n",
    "#Example 1:\n",
    "nums = [0,1,0,3,12]\n",
    "move_zeros_to_end(nums)\n",
    "#time compl=O(n)\n",
    "#space compl=O(1)"
   ]
  },
  {
   "cell_type": "markdown",
   "id": "e83f981a",
   "metadata": {},
   "source": [
    "\n",
    "💡 **Q8.** You have a set of integers s, which originally contains all the numbers from 1 to n. Unfortunately, due to some error, one of the numbers in s got duplicated to another number in the set, which results in repetition of one number and loss of another number.\n",
    "\n",
    "You are given an integer array nums representing the data status of this set after the error.\n",
    "\n",
    "Find the number that occurs twice and the number that is missing and return them in the form of an array.\n",
    "\n",
    "**Example 1:**\n",
    "Input: nums = [1,2,2,4]\n",
    "Output: [2,3]\n"
   ]
  },
  {
   "cell_type": "code",
   "execution_count": 83,
   "id": "0379e9aa",
   "metadata": {},
   "outputs": [
    {
     "data": {
      "text/plain": [
       "(2, 3)"
      ]
     },
     "execution_count": 83,
     "metadata": {},
     "output_type": "execute_result"
    }
   ],
   "source": [
    "def find_duplicate_and_missing(nums):\n",
    "    s = set(range(1, len(nums) + 1))\n",
    "    duplicate = next((x for x in nums if nums.count(x) == 2), None)\n",
    "    missing = next((x for x in s if x not in nums), None)\n",
    "    return duplicate, missing\n",
    "\n",
    "#Example 1:\n",
    "nums = [1,2,2,4]\n",
    "find_duplicate_and_missing(nums)\n",
    "    \n",
    "#time compl=O(n)\n",
    "#space compl=O(n)"
   ]
  },
  {
   "cell_type": "code",
   "execution_count": null,
   "id": "e7fe9436",
   "metadata": {},
   "outputs": [],
   "source": []
  }
 ],
 "metadata": {
  "kernelspec": {
   "display_name": "Python 3 (ipykernel)",
   "language": "python",
   "name": "python3"
  },
  "language_info": {
   "codemirror_mode": {
    "name": "ipython",
    "version": 3
   },
   "file_extension": ".py",
   "mimetype": "text/x-python",
   "name": "python",
   "nbconvert_exporter": "python",
   "pygments_lexer": "ipython3",
   "version": "3.10.9"
  }
 },
 "nbformat": 4,
 "nbformat_minor": 5
}

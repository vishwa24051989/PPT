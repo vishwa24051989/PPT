{
 "cells": [
  {
   "cell_type": "markdown",
   "id": "a945dc83",
   "metadata": {},
   "source": [
    "# Assignment- 2 Array"
   ]
  },
  {
   "cell_type": "markdown",
   "id": "c35dcd58",
   "metadata": {},
   "source": [
    "\n",
    "💡 **Question 1**\n",
    "Given an integer array nums of 2n integers, group these integers into n pairs (a1, b1), (a2, b2),..., (an, bn) such that the sum of min(ai, bi) for all i is maximized. Return the maximized sum.\n",
    "\n",
    "**Example 1:**\n",
    "Input: nums = [1,4,3,2]\n",
    "Output: 4\n",
    "\n",
    "**Explanation:** All possible pairings (ignoring the ordering of elements) are:\n",
    "\n",
    "1. (1, 4), (2, 3) -> min(1, 4) + min(2, 3) = 1 + 2 = 3\n",
    "2. (1, 3), (2, 4) -> min(1, 3) + min(2, 4) = 1 + 2 = 3\n",
    "3. (1, 2), (3, 4) -> min(1, 2) + min(3, 4) = 1 + 3 = 4\n",
    "So the maximum possible sum is 4\n"
   ]
  },
  {
   "cell_type": "code",
   "execution_count": 4,
   "id": "31c613be",
   "metadata": {},
   "outputs": [
    {
     "data": {
      "text/plain": [
       "4"
      ]
     },
     "execution_count": 4,
     "metadata": {},
     "output_type": "execute_result"
    }
   ],
   "source": [
    "def PairSum(nums):\n",
    "        nums.sort()\n",
    "        sum = 0\n",
    "        for i in range(0,len(nums),2):\n",
    "            sum += nums[i]\n",
    "        return sum\n",
    "    \n",
    "nums =[1,4,3,2]\n",
    "PairSum(nums)\n",
    "\n",
    "#tc=O(nlogn)\n",
    "#sc=O(1)"
   ]
  },
  {
   "cell_type": "markdown",
   "id": "81b35a5e",
   "metadata": {},
   "source": [
    "💡Question 2\n",
    "\n",
    "Alice has n candies, where the ith candy is of type candyType[i]. Alice noticed that she started to gain weight, so she visited a doctor. \n",
    "\n",
    "The doctor advised Alice to only eat n / 2 of the candies she has (n is always even). Alice likes her candies very much, and she wants to eat the maximum number of different types of candies while still following the doctor's advice. \n",
    "\n",
    "Given the integer array candyType of length n, return the maximum number of different types of candies she can eat if she only eats n / 2 of them.\n",
    "\n",
    "Example 1:\n",
    "Input: candyType = [1,1,2,2,3,3]\n",
    "Output: 3\n",
    "\n",
    "Explanation: Alice can only eat 6 / 2 = 3 candies. Since there are only 3 types, she can eat one of each type."
   ]
  },
  {
   "cell_type": "code",
   "execution_count": 11,
   "id": "986b0d87",
   "metadata": {},
   "outputs": [
    {
     "data": {
      "text/plain": [
       "1"
      ]
     },
     "execution_count": 11,
     "metadata": {},
     "output_type": "execute_result"
    }
   ],
   "source": [
    "def candies_to_eat(candyType):\n",
    "    i=len(candyType)/2\n",
    "    j=len(set(candyType))\n",
    "    if i<j:\n",
    "        return i\n",
    "    else:\n",
    "        return j\n",
    "\n",
    "candyType = [6,6,6,6]\n",
    "candies_to_eat(candyType)\n",
    "\n",
    "#tc=O(n)\n",
    "#sc=O(1)"
   ]
  },
  {
   "cell_type": "markdown",
   "id": "ed11a7c5",
   "metadata": {},
   "source": [
    "Question 3\n",
    "\n",
    "We define a harmonious array as an array where the difference between its maximum value\n",
    "and its minimum value is exactly 1.\n",
    "\n",
    "Given an integer array nums, return the length of its longest harmonious subsequence\n",
    "among all its possible subsequences.\n",
    "\n",
    "A subsequence of an array is a sequence that can be derived from the array by deleting some or no elements without changing the order of the remaining elements.\n",
    "\n",
    "Example 1:\n",
    "Input: nums = [1,3,2,2,5,2,3,7]\n",
    "Output: 5\n",
    "\n",
    "Explanation: The longest harmonious subsequence is [3,2,2,2,3]."
   ]
  },
  {
   "cell_type": "code",
   "execution_count": 2,
   "id": "3b6bb851",
   "metadata": {},
   "outputs": [
    {
     "name": "stdout",
     "output_type": "stream",
     "text": [
      "5\n"
     ]
    }
   ],
   "source": [
    "def longest_harmonious_subsequence(nums):\n",
    "    counts = {}\n",
    "    for num in nums:\n",
    "        counts[num] = counts.get(num, 0) + 1\n",
    "        result = 0\n",
    "    for num, count in counts.items():\n",
    "        result = max(result, count + counts.get(num - 1, 0))\n",
    "\n",
    "    return result\n",
    "\n",
    "nums = [1, 3, 2, 2, 5, 2, 3, 7]\n",
    "\n",
    "print(longest_harmonious_subsequence(nums))\n",
    "\n",
    "#tc=O(n)\n",
    "#sc=O(n)"
   ]
  },
  {
   "cell_type": "markdown",
   "id": "6bc2362d",
   "metadata": {},
   "source": [
    "Question 4\n",
    "You have a long flowerbed in which some of the plots are planted, and some are not.\n",
    "However, flowers cannot be planted in adjacent plots.\n",
    "Given an integer array flowerbed containing 0's and 1's, where 0 means empty and 1 means not empty, and an integer n, return true if n new flowers can be planted in the flowerbed without violating the no-adjacent-flowers rule and false otherwise.\n",
    "\n",
    "Example 1:\n",
    "Input: flowerbed = [1,0,0,0,1], n = 1\n",
    "Output: true"
   ]
  },
  {
   "cell_type": "code",
   "execution_count": 34,
   "id": "b2f55603",
   "metadata": {},
   "outputs": [
    {
     "data": {
      "text/plain": [
       "True"
      ]
     },
     "execution_count": 34,
     "metadata": {},
     "output_type": "execute_result"
    }
   ],
   "source": [
    "def plants_nums(flowerbed,n):\n",
    "    k=0\n",
    "    count=0\n",
    "    out=False\n",
    "    \n",
    "    if n==0:\n",
    "        out=true\n",
    "        \n",
    "    #check if first pot is empty, then start check from second pot\n",
    "    if flowerbed[0]==0:\n",
    "        k=1\n",
    "        \n",
    "    for i in range(k,len(flowerbed),2):\n",
    "        if flowerbed[i]==0:\n",
    "            count+=1\n",
    "   \n",
    "    if n<=count:\n",
    "        out=True\n",
    "        \n",
    "    return out\n",
    "\n",
    "flowerbed = [1,0,0,0,1]\n",
    "n=1\n",
    "plants_nums(flowerbed,n)"
   ]
  },
  {
   "cell_type": "markdown",
   "id": "045238ce",
   "metadata": {},
   "source": [
    "Question 5\n",
    "Given an integer array nums, find three numbers whose product is maximum and return the maximum product.\n",
    "\n",
    "Example 1:\n",
    "Input: nums = [1,2,3]\n",
    "Output: 6"
   ]
  },
  {
   "cell_type": "code",
   "execution_count": 72,
   "id": "b0944bce",
   "metadata": {},
   "outputs": [
    {
     "data": {
      "text/plain": [
       "192"
      ]
     },
     "execution_count": 72,
     "metadata": {},
     "output_type": "execute_result"
    }
   ],
   "source": [
    "def maxproduct(nums):\n",
    "    nums.sort()\n",
    "    return max(nums[-1]*nums[-2]*nums[-3],nums[-1]*nums[-2]*nums[0],nums[-1]*nums[1]*nums[0],nums[2]*nums[1]*nums[0])\n",
    "    \n",
    "        \n",
    "nums=[1,2,3,-8,-8]\n",
    "maxproduct(nums)\n",
    "\n",
    "#tc=O(nlogn)\n",
    "#sc=O(1)"
   ]
  },
  {
   "cell_type": "markdown",
   "id": "e5bef147",
   "metadata": {},
   "source": [
    "Question 6\n",
    "Given an array of integers nums which is sorted in ascending order, and an integer target,\n",
    "write a function to search target in nums. If target exists, then return its index. Otherwise,\n",
    "return -1.\n",
    "\n",
    "You must write an algorithm with O(log n) runtime complexity.\n",
    "\n",
    "Input: nums = [-1,0,3,5,9,12], target = 9\n",
    "Output: 4\n",
    "\n",
    "Explanation: 9 exists in nums and its index is 4"
   ]
  },
  {
   "cell_type": "code",
   "execution_count": 77,
   "id": "3a633ac3",
   "metadata": {},
   "outputs": [
    {
     "data": {
      "text/plain": [
       "4"
      ]
     },
     "execution_count": 77,
     "metadata": {},
     "output_type": "execute_result"
    }
   ],
   "source": [
    "def target_index(nums, target):\n",
    "    low = 0\n",
    "    high = len(nums) - 1\n",
    "\n",
    "    while low <= high:\n",
    "        mid = (low + high) // 2\n",
    "\n",
    "        if nums[mid] == target:\n",
    "            return mid\n",
    "        elif nums[mid] < target:\n",
    "            low = mid + 1\n",
    "        else:\n",
    "            high = mid - 1\n",
    "\n",
    "    return -1\n",
    "\n",
    "\n",
    "nums = [-1,0,3,5,9,12]\n",
    "target = 9\n",
    "target_index(nums, target)\n",
    "\n",
    "#tc=O(logn)\n",
    "#sc=O(1)"
   ]
  },
  {
   "cell_type": "markdown",
   "id": "edabf840",
   "metadata": {},
   "source": [
    "Question 7\n",
    "An array is monotonic if it is either monotone increasing or monotone decreasing.\n",
    "\n",
    "An array nums is monotone increasing if for all i <= j, nums[i] <= nums[j]. An array nums is\n",
    "monotone decreasing if for all i <= j, nums[i] >= nums[j].\n",
    "\n",
    "Given an integer array nums, return true if the given array is monotonic, or false otherwise.\n",
    "\n",
    "Example 1:\n",
    "Input: nums = [1,2,2,3]\n",
    "Output: true"
   ]
  },
  {
   "cell_type": "code",
   "execution_count": 102,
   "id": "4280d1a0",
   "metadata": {},
   "outputs": [
    {
     "data": {
      "text/plain": [
       "False"
      ]
     },
     "execution_count": 102,
     "metadata": {},
     "output_type": "execute_result"
    }
   ],
   "source": [
    "def ismonotonic(nums):\n",
    "    monotonic=True\n",
    "    if nums[0]<nums[-1]:\n",
    "        for i in range(1,len(nums)):\n",
    "            if nums[i-1]>nums[i]:\n",
    "                monotonic=False\n",
    "    elif nums[0]>nums[-1]:\n",
    "        for i in range(1,len(nums)):\n",
    "            if nums[i-1]<nums[i]:\n",
    "                monotonic=False\n",
    "    elif nums[0]==nums[-1]:\n",
    "        for i in range(1,len(nums)):\n",
    "            if nums[i-1]!=nums[i]:\n",
    "                monotonic=False\n",
    "    return monotonic           \n",
    "\n",
    "nums = [1,2,3]\n",
    "ismonotonic(nums)"
   ]
  },
  {
   "cell_type": "markdown",
   "id": "e52b3c8d",
   "metadata": {},
   "source": [
    "Question 8\n",
    "You are given an integer array nums and an integer k.\n",
    "\n",
    "In one operation, you can choose any index i where 0 <= i < nums.length and change nums[i] to nums[i] + x where x is an integer from the range [-k, k]. You can apply this operation at most once for each index i.\n",
    "\n",
    "The score of nums is the difference between the maximum and minimum elements in nums.\n",
    "\n",
    "Return the minimum score of nums after applying the mentioned operation at most once for each index in it.\n",
    "\n",
    "Example 1:\n",
    "Input: nums = [1], k = 0\n",
    "Output: 0\n",
    "\n",
    "Explanation: The score is max(nums) - min(nums) = 1 - 1 = 0."
   ]
  },
  {
   "cell_type": "code",
   "execution_count": 108,
   "id": "717c3464",
   "metadata": {},
   "outputs": [
    {
     "data": {
      "text/plain": [
       "0"
      ]
     },
     "execution_count": 108,
     "metadata": {},
     "output_type": "execute_result"
    }
   ],
   "source": [
    "def smallestRangeI(nums,k):\n",
    "\n",
    "    M, m = max(nums), min(nums)\n",
    "    diff, extension = M - m, 2*k\n",
    "\n",
    "    if diff <= extension:\n",
    "        return 0\n",
    "\n",
    "    else:\n",
    "        return diff - extension\n",
    "    \n",
    "nums = [1]\n",
    "k = 0\n",
    "smallestRangeI(nums,k)"
   ]
  },
  {
   "cell_type": "code",
   "execution_count": null,
   "id": "a1c546d2",
   "metadata": {},
   "outputs": [],
   "source": []
  }
 ],
 "metadata": {
  "kernelspec": {
   "display_name": "Python 3 (ipykernel)",
   "language": "python",
   "name": "python3"
  },
  "language_info": {
   "codemirror_mode": {
    "name": "ipython",
    "version": 3
   },
   "file_extension": ".py",
   "mimetype": "text/x-python",
   "name": "python",
   "nbconvert_exporter": "python",
   "pygments_lexer": "ipython3",
   "version": "3.10.9"
  }
 },
 "nbformat": 4,
 "nbformat_minor": 5
}
